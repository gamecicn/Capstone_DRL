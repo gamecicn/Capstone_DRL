{
  "nbformat": 4,
  "nbformat_minor": 0,
  "metadata": {
    "colab": {
      "name": "Install_NeoRL.ipynb",
      "provenance": [],
      "collapsed_sections": [],
      "authorship_tag": "ABX9TyNkGWPbDTIOhciPVSawArTx",
      "include_colab_link": true
    },
    "kernelspec": {
      "name": "python3",
      "display_name": "Python 3"
    },
    "language_info": {
      "name": "python"
    }
  },
  "cells": [
    {
      "cell_type": "markdown",
      "metadata": {
        "id": "view-in-github",
        "colab_type": "text"
      },
      "source": [
        "<a href=\"https://colab.research.google.com/github/gamecicn/Capstone_DRL/blob/main/Install_NeoRL.ipynb\" target=\"_parent\"><img src=\"https://colab.research.google.com/assets/colab-badge.svg\" alt=\"Open In Colab\"/></a>"
      ]
    },
    {
      "cell_type": "code",
      "metadata": {
        "colab": {
          "base_uri": "https://localhost:8080/"
        },
        "id": "OStsRs-lhdcR",
        "outputId": "d530f5e2-8915-4fd7-e2ef-3a9e4abb9d6e"
      },
      "source": [
        "!git clone https://github.com/polixir/NeoRL.git\n",
        "!cd /content/NeoRL && pip install -e . "
      ],
      "execution_count": 1,
      "outputs": [
        {
          "output_type": "stream",
          "name": "stdout",
          "text": [
            "fatal: destination path 'NeoRL' already exists and is not an empty directory.\n",
            "Obtaining file:///content/NeoRL\n",
            "Requirement already satisfied: gym in /usr/local/lib/python3.7/dist-packages (from neorl==0.3.0) (0.17.3)\n",
            "Requirement already satisfied: numpy in /usr/local/lib/python3.7/dist-packages (from neorl==0.3.0) (1.19.5)\n",
            "Requirement already satisfied: pygame in /usr/local/lib/python3.7/dist-packages (from neorl==0.3.0) (2.0.1)\n",
            "Requirement already satisfied: attrdict in /usr/local/lib/python3.7/dist-packages (from neorl==0.3.0) (2.0.1)\n",
            "Requirement already satisfied: ray[tune] in /usr/local/lib/python3.7/dist-packages (from neorl==0.3.0) (1.6.0)\n",
            "Requirement already satisfied: dm_tree in /usr/local/lib/python3.7/dist-packages (from neorl==0.3.0) (0.1.6)\n",
            "Requirement already satisfied: pandas in /usr/local/lib/python3.7/dist-packages (from neorl==0.3.0) (1.1.5)\n",
            "Requirement already satisfied: opencv_python in /usr/local/lib/python3.7/dist-packages (from neorl==0.3.0) (4.1.2.30)\n",
            "Requirement already satisfied: torch in /usr/local/lib/python3.7/dist-packages (from neorl==0.3.0) (1.9.0+cu102)\n",
            "Requirement already satisfied: tqdm in /usr/local/lib/python3.7/dist-packages (from neorl==0.3.0) (4.62.2)\n",
            "Requirement already satisfied: six in /usr/local/lib/python3.7/dist-packages (from attrdict->neorl==0.3.0) (1.15.0)\n",
            "Requirement already satisfied: pyglet<=1.5.0,>=1.4.0 in /usr/local/lib/python3.7/dist-packages (from gym->neorl==0.3.0) (1.5.0)\n",
            "Requirement already satisfied: scipy in /usr/local/lib/python3.7/dist-packages (from gym->neorl==0.3.0) (1.4.1)\n",
            "Requirement already satisfied: cloudpickle<1.7.0,>=1.2.0 in /usr/local/lib/python3.7/dist-packages (from gym->neorl==0.3.0) (1.3.0)\n",
            "Requirement already satisfied: future in /usr/local/lib/python3.7/dist-packages (from pyglet<=1.5.0,>=1.4.0->gym->neorl==0.3.0) (0.16.0)\n",
            "Requirement already satisfied: pytz>=2017.2 in /usr/local/lib/python3.7/dist-packages (from pandas->neorl==0.3.0) (2018.9)\n",
            "Requirement already satisfied: python-dateutil>=2.7.3 in /usr/local/lib/python3.7/dist-packages (from pandas->neorl==0.3.0) (2.8.2)\n",
            "Requirement already satisfied: redis>=3.5.0 in /usr/local/lib/python3.7/dist-packages (from ray[tune]->neorl==0.3.0) (3.5.3)\n",
            "Requirement already satisfied: msgpack<2.0.0,>=1.0.0 in /usr/local/lib/python3.7/dist-packages (from ray[tune]->neorl==0.3.0) (1.0.2)\n",
            "Requirement already satisfied: pyyaml in /usr/local/lib/python3.7/dist-packages (from ray[tune]->neorl==0.3.0) (3.13)\n",
            "Requirement already satisfied: click>=7.0 in /usr/local/lib/python3.7/dist-packages (from ray[tune]->neorl==0.3.0) (7.1.2)\n",
            "Requirement already satisfied: attrs in /usr/local/lib/python3.7/dist-packages (from ray[tune]->neorl==0.3.0) (21.2.0)\n",
            "Requirement already satisfied: filelock in /usr/local/lib/python3.7/dist-packages (from ray[tune]->neorl==0.3.0) (3.0.12)\n",
            "Requirement already satisfied: grpcio>=1.28.1 in /usr/local/lib/python3.7/dist-packages (from ray[tune]->neorl==0.3.0) (1.40.0)\n",
            "Requirement already satisfied: protobuf>=3.15.3 in /usr/local/lib/python3.7/dist-packages (from ray[tune]->neorl==0.3.0) (3.17.3)\n",
            "Requirement already satisfied: tabulate in /usr/local/lib/python3.7/dist-packages (from ray[tune]->neorl==0.3.0) (0.8.9)\n",
            "Requirement already satisfied: tensorboardX>=1.9 in /usr/local/lib/python3.7/dist-packages (from ray[tune]->neorl==0.3.0) (2.4)\n",
            "Requirement already satisfied: requests in /usr/local/lib/python3.7/dist-packages (from ray[tune]->neorl==0.3.0) (2.23.0)\n",
            "Requirement already satisfied: idna<3,>=2.5 in /usr/local/lib/python3.7/dist-packages (from requests->ray[tune]->neorl==0.3.0) (2.10)\n",
            "Requirement already satisfied: urllib3!=1.25.0,!=1.25.1,<1.26,>=1.21.1 in /usr/local/lib/python3.7/dist-packages (from requests->ray[tune]->neorl==0.3.0) (1.24.3)\n",
            "Requirement already satisfied: chardet<4,>=3.0.2 in /usr/local/lib/python3.7/dist-packages (from requests->ray[tune]->neorl==0.3.0) (3.0.4)\n",
            "Requirement already satisfied: certifi>=2017.4.17 in /usr/local/lib/python3.7/dist-packages (from requests->ray[tune]->neorl==0.3.0) (2021.5.30)\n",
            "Requirement already satisfied: typing-extensions in /usr/local/lib/python3.7/dist-packages (from torch->neorl==0.3.0) (3.7.4.3)\n",
            "Installing collected packages: neorl\n",
            "  Attempting uninstall: neorl\n",
            "    Found existing installation: neorl 0.3.0\n",
            "    Can't uninstall 'neorl'. No files were found to uninstall.\n",
            "  Running setup.py develop for neorl\n",
            "Successfully installed neorl-0.3.0\n"
          ]
        }
      ]
    },
    {
      "cell_type": "markdown",
      "metadata": {
        "id": "KnBfgCu9msyL"
      },
      "source": [
        "# Add NeoRL local path to Python system path"
      ]
    },
    {
      "cell_type": "code",
      "metadata": {
        "id": "7epoUNflmrMC"
      },
      "source": [
        "import sys\n",
        "sys.path.append(r'/content/NeoRL')"
      ],
      "execution_count": 2,
      "outputs": []
    },
    {
      "cell_type": "markdown",
      "metadata": {
        "id": "Fo9OPDS7m5DC"
      },
      "source": [
        "# NeoRL Openbox test code"
      ]
    },
    {
      "cell_type": "code",
      "metadata": {
        "id": "hpDw0eIMidNl"
      },
      "source": [
        "import neorl\n",
        "\n",
        "# Create an environment\n",
        "env = neorl.make(\"citylearn\")\n",
        "env.reset()\n",
        "env.step(env.action_space.sample())\n",
        "\n",
        "# Get 100 trajectories of low level policy collection on citylearn task\n",
        "train_data, val_data = env.get_dataset(data_type = \"low\", train_num = 100)"
      ],
      "execution_count": 4,
      "outputs": []
    }
  ]
}